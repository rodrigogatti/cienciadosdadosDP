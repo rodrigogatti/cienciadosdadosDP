{
 "cells": [
  {
   "cell_type": "markdown",
   "metadata": {},
   "source": [
    "___\n",
    "# Ciência dos Dados - PROJETO 1"
   ]
  },
  {
   "cell_type": "markdown",
   "metadata": {},
   "source": [
    "Rodrigo Gatti Coutinho"
   ]
  },
  {
   "cell_type": "markdown",
   "metadata": {},
   "source": [
    "## TÍTULO DO SEU PROJETO"
   ]
  },
  {
   "cell_type": "markdown",
   "metadata": {},
   "source": [
    "___\n",
    "## Introdução\n",
    "\n",
    "Nesse primeiro projeto, pretendo analisar a relaçao coezistente entre a classe social de uma pessoa e o trabalho infantil na cidades de São Paulo."
   ]
  },
  {
   "cell_type": "markdown",
   "metadata": {},
   "source": [
    "___\n",
    "## Filtros da base de dados"
   ]
  },
  {
   "cell_type": "code",
   "execution_count": 18,
   "metadata": {},
   "outputs": [],
   "source": [
    "%matplotlib inline\n",
    "import pandas as pd\n",
    "import matplotlib.pyplot as plt\n",
    "import numpy as np\n",
    "import os"
   ]
  },
  {
   "cell_type": "code",
   "execution_count": 19,
   "metadata": {},
   "outputs": [
    {
     "name": "stdout",
     "output_type": "stream",
     "text": [
      "Esperamos trabalhar no diretório\n",
      "C:\\Users\\Familia\\Documents\\insper\\ciencia dos dados\n"
     ]
    }
   ],
   "source": [
    "print('Esperamos trabalhar no diretório')\n",
    "print(os.getcwd())"
   ]
  },
  {
   "cell_type": "code",
   "execution_count": 27,
   "metadata": {},
   "outputs": [
    {
     "data": {
      "text/html": [
       "<div>\n",
       "<style scoped>\n",
       "    .dataframe tbody tr th:only-of-type {\n",
       "        vertical-align: middle;\n",
       "    }\n",
       "\n",
       "    .dataframe tbody tr th {\n",
       "        vertical-align: top;\n",
       "    }\n",
       "\n",
       "    .dataframe thead th {\n",
       "        text-align: right;\n",
       "    }\n",
       "</style>\n",
       "<table border=\"1\" class=\"dataframe\">\n",
       "  <thead>\n",
       "    <tr style=\"text-align: right;\">\n",
       "      <th></th>\n",
       "      <th>Unnamed: 0</th>\n",
       "      <th>V0101</th>\n",
       "      <th>UF</th>\n",
       "      <th>V0102</th>\n",
       "      <th>V0103</th>\n",
       "      <th>V0301</th>\n",
       "      <th>V0302</th>\n",
       "      <th>V3031</th>\n",
       "      <th>V3032</th>\n",
       "      <th>V3033</th>\n",
       "      <th>...</th>\n",
       "      <th>V4741</th>\n",
       "      <th>V4742</th>\n",
       "      <th>V4743</th>\n",
       "      <th>V4745</th>\n",
       "      <th>V4746</th>\n",
       "      <th>V4747</th>\n",
       "      <th>V4748</th>\n",
       "      <th>V4749</th>\n",
       "      <th>V4750</th>\n",
       "      <th>V9993</th>\n",
       "    </tr>\n",
       "  </thead>\n",
       "  <tbody>\n",
       "    <tr>\n",
       "      <th>0</th>\n",
       "      <td>0</td>\n",
       "      <td>2015</td>\n",
       "      <td>11</td>\n",
       "      <td>15</td>\n",
       "      <td>1</td>\n",
       "      <td>1</td>\n",
       "      <td>2</td>\n",
       "      <td>27</td>\n",
       "      <td>2</td>\n",
       "      <td>1992</td>\n",
       "      <td>...</td>\n",
       "      <td>1.0</td>\n",
       "      <td>800.0</td>\n",
       "      <td>4.0</td>\n",
       "      <td>5</td>\n",
       "      <td>1.0</td>\n",
       "      <td>2.0</td>\n",
       "      <td>2.0</td>\n",
       "      <td>1.0</td>\n",
       "      <td>800.0</td>\n",
       "      <td>20161117</td>\n",
       "    </tr>\n",
       "    <tr>\n",
       "      <th>1</th>\n",
       "      <td>1</td>\n",
       "      <td>2015</td>\n",
       "      <td>11</td>\n",
       "      <td>15</td>\n",
       "      <td>3</td>\n",
       "      <td>1</td>\n",
       "      <td>4</td>\n",
       "      <td>4</td>\n",
       "      <td>5</td>\n",
       "      <td>1992</td>\n",
       "      <td>...</td>\n",
       "      <td>1.0</td>\n",
       "      <td>1150.0</td>\n",
       "      <td>4.0</td>\n",
       "      <td>5</td>\n",
       "      <td>1.0</td>\n",
       "      <td>2.0</td>\n",
       "      <td>2.0</td>\n",
       "      <td>1.0</td>\n",
       "      <td>1150.0</td>\n",
       "      <td>20161117</td>\n",
       "    </tr>\n",
       "    <tr>\n",
       "      <th>2</th>\n",
       "      <td>2</td>\n",
       "      <td>2015</td>\n",
       "      <td>11</td>\n",
       "      <td>15</td>\n",
       "      <td>4</td>\n",
       "      <td>1</td>\n",
       "      <td>4</td>\n",
       "      <td>4</td>\n",
       "      <td>1</td>\n",
       "      <td>1980</td>\n",
       "      <td>...</td>\n",
       "      <td>6.0</td>\n",
       "      <td>793.0</td>\n",
       "      <td>4.0</td>\n",
       "      <td>6</td>\n",
       "      <td>1.0</td>\n",
       "      <td>2.0</td>\n",
       "      <td>2.0</td>\n",
       "      <td>1.0</td>\n",
       "      <td>793.0</td>\n",
       "      <td>20161117</td>\n",
       "    </tr>\n",
       "    <tr>\n",
       "      <th>3</th>\n",
       "      <td>3</td>\n",
       "      <td>2015</td>\n",
       "      <td>11</td>\n",
       "      <td>15</td>\n",
       "      <td>4</td>\n",
       "      <td>2</td>\n",
       "      <td>2</td>\n",
       "      <td>5</td>\n",
       "      <td>6</td>\n",
       "      <td>1981</td>\n",
       "      <td>...</td>\n",
       "      <td>6.0</td>\n",
       "      <td>793.0</td>\n",
       "      <td>4.0</td>\n",
       "      <td>7</td>\n",
       "      <td>1.0</td>\n",
       "      <td>2.0</td>\n",
       "      <td>2.0</td>\n",
       "      <td>1.0</td>\n",
       "      <td>793.0</td>\n",
       "      <td>20161117</td>\n",
       "    </tr>\n",
       "    <tr>\n",
       "      <th>4</th>\n",
       "      <td>4</td>\n",
       "      <td>2015</td>\n",
       "      <td>11</td>\n",
       "      <td>15</td>\n",
       "      <td>4</td>\n",
       "      <td>3</td>\n",
       "      <td>4</td>\n",
       "      <td>8</td>\n",
       "      <td>4</td>\n",
       "      <td>2004</td>\n",
       "      <td>...</td>\n",
       "      <td>6.0</td>\n",
       "      <td>793.0</td>\n",
       "      <td>4.0</td>\n",
       "      <td>2</td>\n",
       "      <td>2.0</td>\n",
       "      <td>NaN</td>\n",
       "      <td>NaN</td>\n",
       "      <td>2.0</td>\n",
       "      <td>793.0</td>\n",
       "      <td>20161117</td>\n",
       "    </tr>\n",
       "  </tbody>\n",
       "</table>\n",
       "<p>5 rows × 329 columns</p>\n",
       "</div>"
      ],
      "text/plain": [
       "   Unnamed: 0  V0101  UF  V0102  V0103  V0301  V0302  V3031  V3032  V3033  \\\n",
       "0           0   2015  11     15      1      1      2     27      2   1992   \n",
       "1           1   2015  11     15      3      1      4      4      5   1992   \n",
       "2           2   2015  11     15      4      1      4      4      1   1980   \n",
       "3           3   2015  11     15      4      2      2      5      6   1981   \n",
       "4           4   2015  11     15      4      3      4      8      4   2004   \n",
       "\n",
       "     ...     V4741   V4742  V4743  V4745  V4746  V4747  V4748  V4749   V4750  \\\n",
       "0    ...       1.0   800.0    4.0      5    1.0    2.0    2.0    1.0   800.0   \n",
       "1    ...       1.0  1150.0    4.0      5    1.0    2.0    2.0    1.0  1150.0   \n",
       "2    ...       6.0   793.0    4.0      6    1.0    2.0    2.0    1.0   793.0   \n",
       "3    ...       6.0   793.0    4.0      7    1.0    2.0    2.0    1.0   793.0   \n",
       "4    ...       6.0   793.0    4.0      2    2.0    NaN    NaN    2.0   793.0   \n",
       "\n",
       "      V9993  \n",
       "0  20161117  \n",
       "1  20161117  \n",
       "2  20161117  \n",
       "3  20161117  \n",
       "4  20161117  \n",
       "\n",
       "[5 rows x 329 columns]"
      ]
     },
     "execution_count": 27,
     "metadata": {},
     "output_type": "execute_result"
    }
   ],
   "source": [
    "#Se usar o arquivo descompactado\n",
    "# pd.read_csv('PES2015csv.csv', sep=',')\n",
    "#Se usar o arquivo compactado como está no dropbox púbico\n",
    "dados=pd.read_csv('PES2015csv.zip', compression='zip', header=0, sep=',', quotechar='\"')\n",
    "dados.head()"
   ]
  },
  {
   "cell_type": "code",
   "execution_count": 30,
   "metadata": {},
   "outputs": [
    {
     "data": {
      "text/html": [
       "<div>\n",
       "<style scoped>\n",
       "    .dataframe tbody tr th:only-of-type {\n",
       "        vertical-align: middle;\n",
       "    }\n",
       "\n",
       "    .dataframe tbody tr th {\n",
       "        vertical-align: top;\n",
       "    }\n",
       "\n",
       "    .dataframe thead th {\n",
       "        text-align: right;\n",
       "    }\n",
       "</style>\n",
       "<table border=\"1\" class=\"dataframe\">\n",
       "  <thead>\n",
       "    <tr style=\"text-align: right;\">\n",
       "      <th></th>\n",
       "      <th>UF</th>\n",
       "      <th>V4723</th>\n",
       "      <th>V4728</th>\n",
       "      <th>V6502</th>\n",
       "      <th>V4816</th>\n",
       "      <th>V9891</th>\n",
       "      <th>V4743</th>\n",
       "    </tr>\n",
       "  </thead>\n",
       "  <tbody>\n",
       "    <tr>\n",
       "      <th>0</th>\n",
       "      <td>11</td>\n",
       "      <td>10</td>\n",
       "      <td>1</td>\n",
       "      <td>0</td>\n",
       "      <td>11.0</td>\n",
       "      <td>2.0</td>\n",
       "      <td>4.0</td>\n",
       "    </tr>\n",
       "    <tr>\n",
       "      <th>1</th>\n",
       "      <td>11</td>\n",
       "      <td>10</td>\n",
       "      <td>1</td>\n",
       "      <td>0</td>\n",
       "      <td>12.0</td>\n",
       "      <td>5.0</td>\n",
       "      <td>4.0</td>\n",
       "    </tr>\n",
       "    <tr>\n",
       "      <th>2</th>\n",
       "      <td>11</td>\n",
       "      <td>2</td>\n",
       "      <td>1</td>\n",
       "      <td>0</td>\n",
       "      <td>8.0</td>\n",
       "      <td>2.0</td>\n",
       "      <td>4.0</td>\n",
       "    </tr>\n",
       "    <tr>\n",
       "      <th>3</th>\n",
       "      <td>11</td>\n",
       "      <td>2</td>\n",
       "      <td>1</td>\n",
       "      <td>0</td>\n",
       "      <td>5.0</td>\n",
       "      <td>1.0</td>\n",
       "      <td>4.0</td>\n",
       "    </tr>\n",
       "    <tr>\n",
       "      <th>7</th>\n",
       "      <td>11</td>\n",
       "      <td>2</td>\n",
       "      <td>1</td>\n",
       "      <td>0</td>\n",
       "      <td>5.0</td>\n",
       "      <td>3.0</td>\n",
       "      <td>4.0</td>\n",
       "    </tr>\n",
       "  </tbody>\n",
       "</table>\n",
       "</div>"
      ],
      "text/plain": [
       "   UF  V4723  V4728  V6502  V4816  V9891  V4743\n",
       "0  11     10      1      0   11.0    2.0    4.0\n",
       "1  11     10      1      0   12.0    5.0    4.0\n",
       "2  11      2      1      0    8.0    2.0    4.0\n",
       "3  11      2      1      0    5.0    1.0    4.0\n",
       "7  11      2      1      0    5.0    3.0    4.0"
      ]
     },
     "execution_count": 30,
     "metadata": {},
     "output_type": "execute_result"
    }
   ],
   "source": [
    "dados= dados.loc[:, [\"UF\",\"V4723\",\"V4728\",\"V6502\",\"V4816\", \"V9891\", \"V4743\"]]\n",
    "dados.to_csv(\"resumo.csv\") #faz com que salve em um arquivo no excel\n",
    "dados_nao_nulos= dados[pd.notnull(dados.V4723)&pd.notnull(dados.V4728)&pd.notnull(dados.UF)&pd.notnull(dados.V6502)&pd.notnull(dados.V4816)&pd.notnull(dados.V9891)&pd.notnull(dados.V4743)]\n",
    "dados_nao_nulos.head()"
   ]
  },
  {
   "cell_type": "code",
   "execution_count": null,
   "metadata": {
    "collapsed": true
   },
   "outputs": [],
   "source": []
  },
  {
   "cell_type": "markdown",
   "metadata": {},
   "source": [
    "___\n",
    "## Análise e Resultados"
   ]
  },
  {
   "cell_type": "code",
   "execution_count": null,
   "metadata": {
    "collapsed": true
   },
   "outputs": [],
   "source": []
  },
  {
   "cell_type": "code",
   "execution_count": null,
   "metadata": {
    "collapsed": true
   },
   "outputs": [],
   "source": []
  },
  {
   "cell_type": "markdown",
   "metadata": {},
   "source": [
    "___\n",
    "## Conclusão "
   ]
  },
  {
   "cell_type": "markdown",
   "metadata": {
    "collapsed": true
   },
   "source": [
    "Descreva aqui suas conclusões!"
   ]
  },
  {
   "cell_type": "code",
   "execution_count": null,
   "metadata": {
    "collapsed": true
   },
   "outputs": [],
   "source": []
  }
 ],
 "metadata": {
  "anaconda-cloud": {},
  "kernelspec": {
   "display_name": "Python 3",
   "language": "python",
   "name": "python3"
  },
  "language_info": {
   "codemirror_mode": {
    "name": "ipython",
    "version": 3
   },
   "file_extension": ".py",
   "mimetype": "text/x-python",
   "name": "python",
   "nbconvert_exporter": "python",
   "pygments_lexer": "ipython3",
   "version": "3.6.4"
  }
 },
 "nbformat": 4,
 "nbformat_minor": 1
}
